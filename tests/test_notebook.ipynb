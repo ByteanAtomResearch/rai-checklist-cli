{
 "cells": [
  {
   "cell_type": "code",
   "execution_count": 1,
   "metadata": {},
   "outputs": [
    {
     "name": "stdout",
     "output_type": "stream",
     "text": [
      "Requirement already satisfied: PyYaml in c:\\code\\rai-checklist-cli\\venv\\lib\\site-packages (6.0)\n",
      "Note: you may need to restart the kernel to use updated packages.\n"
     ]
    },
    {
     "name": "stderr",
     "output_type": "stream",
     "text": [
      "\n",
      "[notice] A new release of pip is available: 24.0 -> 24.2\n",
      "[notice] To update, run: python.exe -m pip install --upgrade pip\n"
     ]
    }
   ],
   "source": [
    "%pip install PyYaml"
   ]
  },
  {
   "cell_type": "code",
   "execution_count": 3,
   "metadata": {},
   "outputs": [],
   "source": [
    "# test_notebook.ipynb\n",
    "import rai_checklist_cli\n",
    "from rai_checklist_cli.template_manager import TemplateManager\n",
    "from rai_checklist_cli.checklist_generator import generate_checklist\n",
    "#from rai_checklist_cli.validate_checklist import validate_checklist, load_config\n",
    "from rai_checklist_cli.template_utils import create_custom_template, display_available_templates, focus_on_section\n",
    "import yaml\n",
    "import json\n",
    "import os"
   ]
  },
  {
   "cell_type": "code",
   "execution_count": 4,
   "metadata": {},
   "outputs": [
    {
     "name": "stdout",
     "output_type": "stream",
     "text": [
      "Template loaded successfully\n",
      "Template keys: dict_keys(['collaboration', 'contacts_stakeholders', 'continual_improvement', 'deployment_monitoring', 'end_user_definition', 'end_user_testing', 'ethical_considerations', 'llm_specific_evaluation', 'performance_measurement', 'problem_definition', 'project_motivation', 'roadmap_timeline', 'user_research'])\n"
     ]
    }
   ],
   "source": [
    "# Test template loading\n",
    "tm = TemplateManager()\n",
    "template = tm.get_template(\"default\")\n",
    "print(\"Template loaded successfully\")\n",
    "print(f\"Template keys: {template.keys()}\")\n"
   ]
  },
  {
   "cell_type": "code",
   "execution_count": null,
   "metadata": {},
   "outputs": [],
   "source": [
    "# Test checklist generation for all formats\n",
    "for format in [\"md\", \"yaml\", \"json\"]:\n",
    "    checklist = generate_checklist(template, list(template.keys()), format)\n",
    "    print(f\"\\nChecklist generated successfully in {format} format\")\n",
    "    print(checklist[:200])  # Print first 200 characters"
   ]
  },
  {
   "cell_type": "code",
   "execution_count": 6,
   "metadata": {},
   "outputs": [
    {
     "name": "stderr",
     "output_type": "stream",
     "text": [
      "Cannot save template when using package resources.\n"
     ]
    },
    {
     "name": "stdout",
     "output_type": "stream",
     "text": [
      "\n",
      "Custom template saved successfully\n"
     ]
    }
   ],
   "source": [
    "# Test custom template creation\n",
    "custom_template = {\n",
    "    \"test_section\": {\n",
    "        \"title\": \"Test Section\",\n",
    "        \"items\": [\"Test item 1\", \"Test item 2\"]\n",
    "    }\n",
    "}\n",
    "tm.save_template(\"custom_test\", custom_template)\n",
    "print(\"\\nCustom template saved successfully\")\n"
   ]
  },
  {
   "cell_type": "code",
   "execution_count": 7,
   "metadata": {},
   "outputs": [
    {
     "name": "stdout",
     "output_type": "stream",
     "text": [
      "Custom template loaded successfully\n",
      "Custom template content: {'test_section': {'title': 'Test Section', 'items': ['Test item 1', 'Test item 2']}}\n"
     ]
    }
   ],
   "source": [
    "# Test loading custom template\n",
    "loaded_custom_template = tm.get_template(\"custom_test\")\n",
    "print(\"Custom template loaded successfully\")\n",
    "print(f\"Custom template content: {loaded_custom_template}\")"
   ]
  },
  {
   "cell_type": "code",
   "execution_count": null,
   "metadata": {},
   "outputs": [],
   "source": [
    "# Test checklist validation\n",
    "config = load_config()\n",
    "checklist_content = generate_checklist(template, list(template.keys()), \"yaml\")\n",
    "with open(\"test_checklist.yaml\", \"w\") as f:\n",
    "    f.write(checklist_content)\n",
    "is_valid = validate_checklist(\"test_checklist.yaml\", \"default\", config)\n",
    "print(f\"\\nChecklist validation result: {is_valid}\")\n"
   ]
  },
  {
   "cell_type": "code",
   "execution_count": null,
   "metadata": {},
   "outputs": [],
   "source": [
    "# Test displaying available templates\n",
    "print(\"\\nAvailable templates:\")\n",
    "display_available_templates(tm.templates)\n",
    "\n",
    "# Test focusing on a specific section\n",
    "print(\"\\nFocusing on a specific section:\")\n",
    "focus_on_section(tm.templates, \"default\", list(template.keys())[0])\n",
    "\n",
    "# Clean up\n",
    "os.remove(\"test_checklist.yaml\")"
   ]
  }
 ],
 "metadata": {
  "kernelspec": {
   "display_name": "venv",
   "language": "python",
   "name": "python3"
  },
  "language_info": {
   "codemirror_mode": {
    "name": "ipython",
    "version": 3
   },
   "file_extension": ".py",
   "mimetype": "text/x-python",
   "name": "python",
   "nbconvert_exporter": "python",
   "pygments_lexer": "ipython3",
   "version": "3.11.9"
  }
 },
 "nbformat": 4,
 "nbformat_minor": 2
}
