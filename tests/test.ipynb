{
 "cells": [
  {
   "cell_type": "code",
   "execution_count": 4,
   "metadata": {},
   "outputs": [
    {
     "name": "stdout",
     "output_type": "stream",
     "text": [
      "Requirement already satisfied: rai-checklist-cli in c:\\code\\rai-checklist-cli\\venv\\lib\\site-packages (0.5.13)\n",
      "Requirement already satisfied: pyyaml in c:\\code\\rai-checklist-cli\\venv\\lib\\site-packages (from rai-checklist-cli) (6.0)\n",
      "Requirement already satisfied: tqdm in c:\\code\\rai-checklist-cli\\venv\\lib\\site-packages (from rai-checklist-cli) (4.66.5)\n",
      "Requirement already satisfied: colorama in c:\\code\\rai-checklist-cli\\venv\\lib\\site-packages (from tqdm->rai-checklist-cli) (0.4.6)\n",
      "Note: you may need to restart the kernel to use updated packages.\n"
     ]
    },
    {
     "name": "stderr",
     "output_type": "stream",
     "text": [
      "\n",
      "[notice] A new release of pip is available: 24.0 -> 24.2\n",
      "[notice] To update, run: python.exe -m pip install --upgrade pip\n"
     ]
    }
   ],
   "source": [
    "# test_colab.ipynb\n",
    "%pip install rai-checklist-cli\n",
    "\n",
    "import rai_checklist_cli\n",
    "from rai_checklist_cli.template_manager import TemplateManager\n",
    "from rai_checklist_cli.checklist_generator import generate_checklist\n",
    "\n",
    "# Run the same tests as in the Jupyter notebook"
   ]
  },
  {
   "cell_type": "code",
   "execution_count": 5,
   "metadata": {},
   "outputs": [],
   "source": [
    "# test_notebook.ipynb\n",
    "import rai_checklist_cli\n",
    "from rai_checklist_cli.template_manager import TemplateManager\n",
    "from rai_checklist_cli.checklist_generator import generate_checklist"
   ]
  },
  {
   "cell_type": "code",
   "execution_count": 6,
   "metadata": {},
   "outputs": [
    {
     "name": "stdout",
     "output_type": "stream",
     "text": [
      "Template loaded successfully\n"
     ]
    }
   ],
   "source": [
    "# Test template loading\n",
    "tm = TemplateManager()\n",
    "template = tm.get_template(\"default\")\n",
    "print(\"Template loaded successfully\")"
   ]
  },
  {
   "cell_type": "code",
   "execution_count": 7,
   "metadata": {},
   "outputs": [
    {
     "ename": "KeyError",
     "evalue": "'name'",
     "output_type": "error",
     "traceback": [
      "\u001b[1;31m---------------------------------------------------------------------------\u001b[0m",
      "\u001b[1;31mKeyError\u001b[0m                                  Traceback (most recent call last)",
      "Cell \u001b[1;32mIn[7], line 2\u001b[0m\n\u001b[0;32m      1\u001b[0m \u001b[38;5;66;03m# Test checklist generation\u001b[39;00m\n\u001b[1;32m----> 2\u001b[0m checklist \u001b[38;5;241m=\u001b[39m \u001b[43mgenerate_checklist\u001b[49m\u001b[43m(\u001b[49m\u001b[43mtemplate\u001b[49m\u001b[43m,\u001b[49m\u001b[43m \u001b[49m\u001b[38;5;28;43mlist\u001b[39;49m\u001b[43m(\u001b[49m\u001b[43mtemplate\u001b[49m\u001b[38;5;241;43m.\u001b[39;49m\u001b[43mkeys\u001b[49m\u001b[43m(\u001b[49m\u001b[43m)\u001b[49m\u001b[43m)\u001b[49m\u001b[43m,\u001b[49m\u001b[43m \u001b[49m\u001b[38;5;124;43m\"\u001b[39;49m\u001b[38;5;124;43mmd\u001b[39;49m\u001b[38;5;124;43m\"\u001b[39;49m\u001b[43m)\u001b[49m\n\u001b[0;32m      3\u001b[0m \u001b[38;5;28mprint\u001b[39m(\u001b[38;5;124m\"\u001b[39m\u001b[38;5;124mChecklist generated successfully\u001b[39m\u001b[38;5;124m\"\u001b[39m)\n\u001b[0;32m      4\u001b[0m \u001b[38;5;28mprint\u001b[39m(checklist[:\u001b[38;5;241m500\u001b[39m])  \u001b[38;5;66;03m# Print first 500 characters\u001b[39;00m\n",
      "File \u001b[1;32mc:\\code\\rai-checklist-cli\\venv\\Lib\\site-packages\\rai_checklist_cli\\checklist_generator.py:16\u001b[0m, in \u001b[0;36mgenerate_checklist\u001b[1;34m(template, sections, file_format)\u001b[0m\n\u001b[0;32m     13\u001b[0m     \u001b[38;5;28;01mraise\u001b[39;00m \u001b[38;5;167;01mValueError\u001b[39;00m(\u001b[38;5;124mf\u001b[39m\u001b[38;5;124m\"\u001b[39m\u001b[38;5;124mUnsupported file format: \u001b[39m\u001b[38;5;132;01m{\u001b[39;00mfile_format\u001b[38;5;132;01m}\u001b[39;00m\u001b[38;5;124m\"\u001b[39m)\n\u001b[0;32m     15\u001b[0m \u001b[38;5;28;01mif\u001b[39;00m file_format \u001b[38;5;241m==\u001b[39m \u001b[38;5;124m\"\u001b[39m\u001b[38;5;124mmd\u001b[39m\u001b[38;5;124m\"\u001b[39m:\n\u001b[1;32m---> 16\u001b[0m     checklist \u001b[38;5;241m=\u001b[39m \u001b[38;5;124mf\u001b[39m\u001b[38;5;124m\"\u001b[39m\u001b[38;5;124m# Responsible AI Checklist for LLM Projects - \u001b[39m\u001b[38;5;132;01m{\u001b[39;00m\u001b[43mtemplate\u001b[49m\u001b[43m[\u001b[49m\u001b[38;5;124;43m'\u001b[39;49m\u001b[38;5;124;43mname\u001b[39;49m\u001b[38;5;124;43m'\u001b[39;49m\u001b[43m]\u001b[49m\u001b[38;5;132;01m}\u001b[39;00m\u001b[38;5;130;01m\\n\u001b[39;00m\u001b[38;5;130;01m\\n\u001b[39;00m\u001b[38;5;124m\"\u001b[39m\n\u001b[0;32m     17\u001b[0m     \u001b[38;5;28;01mfor\u001b[39;00m section \u001b[38;5;129;01min\u001b[39;00m sections:\n\u001b[0;32m     18\u001b[0m         \u001b[38;5;28;01mif\u001b[39;00m section \u001b[38;5;129;01min\u001b[39;00m template:\n",
      "\u001b[1;31mKeyError\u001b[0m: 'name'"
     ]
    }
   ],
   "source": [
    "# Test checklist generation\n",
    "checklist = generate_checklist(template, list(template.keys()), \"md\")\n",
    "print(\"Checklist generated successfully\")\n",
    "print(checklist[:500])  # Print first 500 characters"
   ]
  }
 ],
 "metadata": {
  "kernelspec": {
   "display_name": "venv",
   "language": "python",
   "name": "python3"
  },
  "language_info": {
   "codemirror_mode": {
    "name": "ipython",
    "version": 3
   },
   "file_extension": ".py",
   "mimetype": "text/x-python",
   "name": "python",
   "nbconvert_exporter": "python",
   "pygments_lexer": "ipython3",
   "version": "3.11.9"
  }
 },
 "nbformat": 4,
 "nbformat_minor": 2
}
