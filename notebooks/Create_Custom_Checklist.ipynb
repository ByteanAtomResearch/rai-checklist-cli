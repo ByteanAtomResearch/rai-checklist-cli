{
 "cells": [
  {
   "cell_type": "code",
   "execution_count": 3,
   "metadata": {},
   "outputs": [
    {
     "name": "stdout",
     "output_type": "stream",
     "text": [
      "Requirement already satisfied: rai_checklist_cli in c:\\code\\rai-checklist-cli\\rai-venv\\lib\\site-packages (0.5.0)\n",
      "Collecting rai_checklist_cli\n",
      "  Downloading rai_checklist_cli-0.5.5-py3-none-any.whl.metadata (7.6 kB)\n",
      "Downloading rai_checklist_cli-0.5.5-py3-none-any.whl (8.8 kB)\n",
      "Installing collected packages: rai_checklist_cli\n",
      "  Attempting uninstall: rai_checklist_cli\n",
      "    Found existing installation: rai-checklist-cli 0.5.0\n",
      "    Uninstalling rai-checklist-cli-0.5.0:\n",
      "      Successfully uninstalled rai-checklist-cli-0.5.0\n",
      "Successfully installed rai_checklist_cli-0.5.5\n",
      "Note: you may need to restart the kernel to use updated packages.\n"
     ]
    }
   ],
   "source": [
    "%pip install --upgrade rai_checklist_cli"
   ]
  },
  {
   "cell_type": "markdown",
   "metadata": {},
   "source": [
    "## Call the function to start interactive template creation"
   ]
  },
  {
   "cell_type": "code",
   "execution_count": 4,
   "metadata": {},
   "outputs": [
    {
     "ename": "FileNotFoundError",
     "evalue": "[Errno 2] No such file or directory: 'rai_checklist_cli/templates.yaml'",
     "output_type": "error",
     "traceback": [
      "\u001b[1;31m---------------------------------------------------------------------------\u001b[0m",
      "\u001b[1;31mFileNotFoundError\u001b[0m                         Traceback (most recent call last)",
      "Cell \u001b[1;32mIn[4], line 1\u001b[0m\n\u001b[1;32m----> 1\u001b[0m \u001b[38;5;28;01mfrom\u001b[39;00m \u001b[38;5;21;01mrai_checklist_cli\u001b[39;00m\u001b[38;5;21;01m.\u001b[39;00m\u001b[38;5;21;01mjupyter_template_manager\u001b[39;00m \u001b[38;5;28;01mimport\u001b[39;00m template_manager\n\u001b[0;32m      3\u001b[0m \u001b[38;5;66;03m# Call the function to start interactive template creation\u001b[39;00m\n\u001b[0;32m      4\u001b[0m template_manager\u001b[38;5;241m.\u001b[39mcreate_template()\n",
      "File \u001b[1;32mc:\\code\\rai-checklist-cli\\rai-venv\\Lib\\site-packages\\rai_checklist_cli\\jupyter_template_manager.py:65\u001b[0m\n\u001b[0;32m     62\u001b[0m         save_template_button\u001b[38;5;241m.\u001b[39mon_click(save_template)\n\u001b[0;32m     64\u001b[0m \u001b[38;5;66;03m# Create an instance to use in the notebook\u001b[39;00m\n\u001b[1;32m---> 65\u001b[0m template_manager \u001b[38;5;241m=\u001b[39m \u001b[43mJupyterTemplateManager\u001b[49m\u001b[43m(\u001b[49m\u001b[43m)\u001b[49m\n\u001b[0;32m     67\u001b[0m \u001b[38;5;66;03m# Create a new template\u001b[39;00m\n\u001b[0;32m     68\u001b[0m template_manager\u001b[38;5;241m.\u001b[39mcreate_template()\n",
      "File \u001b[1;32mc:\\code\\rai-checklist-cli\\rai-venv\\Lib\\site-packages\\rai_checklist_cli\\jupyter_template_manager.py:8\u001b[0m, in \u001b[0;36mJupyterTemplateManager.__init__\u001b[1;34m(self, template_file)\u001b[0m\n\u001b[0;32m      6\u001b[0m \u001b[38;5;28;01mdef\u001b[39;00m \u001b[38;5;21m__init__\u001b[39m(\u001b[38;5;28mself\u001b[39m, template_file\u001b[38;5;241m=\u001b[39m\u001b[38;5;124m'\u001b[39m\u001b[38;5;124mrai_checklist_cli/templates.yaml\u001b[39m\u001b[38;5;124m'\u001b[39m):\n\u001b[0;32m      7\u001b[0m     \u001b[38;5;28mself\u001b[39m\u001b[38;5;241m.\u001b[39mtemplate_file \u001b[38;5;241m=\u001b[39m template_file\n\u001b[1;32m----> 8\u001b[0m     \u001b[38;5;28mself\u001b[39m\u001b[38;5;241m.\u001b[39mtemplates \u001b[38;5;241m=\u001b[39m \u001b[38;5;28;43mself\u001b[39;49m\u001b[38;5;241;43m.\u001b[39;49m\u001b[43mload_templates\u001b[49m\u001b[43m(\u001b[49m\u001b[43m)\u001b[49m\n",
      "File \u001b[1;32mc:\\code\\rai-checklist-cli\\rai-venv\\Lib\\site-packages\\rai_checklist_cli\\jupyter_template_manager.py:11\u001b[0m, in \u001b[0;36mJupyterTemplateManager.load_templates\u001b[1;34m(self)\u001b[0m\n\u001b[0;32m     10\u001b[0m \u001b[38;5;28;01mdef\u001b[39;00m \u001b[38;5;21mload_templates\u001b[39m(\u001b[38;5;28mself\u001b[39m):\n\u001b[1;32m---> 11\u001b[0m     \u001b[38;5;28;01mwith\u001b[39;00m \u001b[38;5;28;43mopen\u001b[39;49m\u001b[43m(\u001b[49m\u001b[38;5;28;43mself\u001b[39;49m\u001b[38;5;241;43m.\u001b[39;49m\u001b[43mtemplate_file\u001b[49m\u001b[43m,\u001b[49m\u001b[43m \u001b[49m\u001b[38;5;124;43m'\u001b[39;49m\u001b[38;5;124;43mr\u001b[39;49m\u001b[38;5;124;43m'\u001b[39;49m\u001b[43m)\u001b[49m \u001b[38;5;28;01mas\u001b[39;00m f:\n\u001b[0;32m     12\u001b[0m         \u001b[38;5;28;01mreturn\u001b[39;00m yaml\u001b[38;5;241m.\u001b[39msafe_load(f)\n",
      "\u001b[1;31mFileNotFoundError\u001b[0m: [Errno 2] No such file or directory: 'rai_checklist_cli/templates.yaml'"
     ]
    }
   ],
   "source": [
    "from rai_checklist_cli.jupyter_template_manager import template_manager\n",
    "\n",
    "# Call the function to start interactive template creation\n",
    "template_manager.create_template()"
   ]
  },
  {
   "cell_type": "markdown",
   "metadata": {},
   "source": [
    "## Call the function to start interactive template creation"
   ]
  },
  {
   "cell_type": "code",
   "execution_count": null,
   "metadata": {},
   "outputs": [],
   "source": [
    "template_manager.create_template()"
   ]
  },
  {
   "cell_type": "code",
   "execution_count": null,
   "metadata": {},
   "outputs": [],
   "source": []
  }
 ],
 "metadata": {
  "kernelspec": {
   "display_name": "rai-venv",
   "language": "python",
   "name": "python3"
  },
  "language_info": {
   "codemirror_mode": {
    "name": "ipython",
    "version": 3
   },
   "file_extension": ".py",
   "mimetype": "text/x-python",
   "name": "python",
   "nbconvert_exporter": "python",
   "pygments_lexer": "ipython3",
   "version": "3.11.9"
  }
 },
 "nbformat": 4,
 "nbformat_minor": 2
}
