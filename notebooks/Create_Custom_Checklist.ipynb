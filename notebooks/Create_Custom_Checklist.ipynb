{
 "cells": [
  {
   "cell_type": "markdown",
   "metadata": {},
   "source": [
    "# Generating and Managing Responsible AI Checklists Using `rai-checklist-cli`\n",
    "\n",
    "This notebook demonstrates how to use the `rai-checklist-cli` library to generate and manage responsible AI checklists for machine learning projects.\n",
    "We will cover:\n",
    "\n",
    "- Listing available templates\n",
    "- Focusing on specific sections\n",
    "- Generating checklists in various formats (Markdown, YAML, JSON)\n",
    "- Creating and saving custom templates"
   ]
  },
  {
   "cell_type": "markdown",
   "metadata": {},
   "source": [
    "## Step 1: Install the `rai-checklist-cli` Library\n",
    "\n",
    "Before using the `rai-checklist-cli` tool, ensure it is installed in your environment. You can install it directly from PyPI.\n",
    "\n",
    "If you're using Google Colab or another notebook environment, run the following command to install the library:\n"
   ]
  },
  {
   "cell_type": "code",
   "execution_count": 14,
   "metadata": {},
   "outputs": [
    {
     "name": "stdout",
     "output_type": "stream",
     "text": [
      "Requirement already satisfied: rai_checklist_cli in c:\\code\\rai-checklist-cli\\venv\\lib\\site-packages (0.5.13)\n",
      "Requirement already satisfied: pyyaml in c:\\code\\rai-checklist-cli\\venv\\lib\\site-packages (from rai_checklist_cli) (6.0)\n",
      "Requirement already satisfied: tqdm in c:\\code\\rai-checklist-cli\\venv\\lib\\site-packages (from rai_checklist_cli) (4.66.5)\n",
      "Requirement already satisfied: colorama in c:\\code\\rai-checklist-cli\\venv\\lib\\site-packages (from tqdm->rai_checklist_cli) (0.4.6)\n",
      "Note: you may need to restart the kernel to use updated packages.\n"
     ]
    },
    {
     "name": "stderr",
     "output_type": "stream",
     "text": [
      "\n",
      "[notice] A new release of pip is available: 24.0 -> 24.2\n",
      "[notice] To update, run: python.exe -m pip install --upgrade pip\n"
     ]
    }
   ],
   "source": [
    "%pip install --upgrade rai_checklist_cli"
   ]
  },
  {
   "cell_type": "code",
   "execution_count": 6,
   "metadata": {},
   "outputs": [
    {
     "name": "stdout",
     "output_type": "stream",
     "text": [
      "Name: rai-checklist-cli\n",
      "Version: 0.5.13\n",
      "Summary: A CLI tool to generate responsible AI checklists for machine learning projects.\n",
      "Home-page: https://github.com/ByteanAtomResearch/rai-checklist-cli\n",
      "Author: Noble Ackerson\n",
      "Author-email: noblel@byteanatom.com\n",
      "License: UNKNOWN\n",
      "Location: C:\\code\\rai-checklist-cli\\venv\\Lib\\site-packages\n",
      "Requires: pyyaml, tqdm\n",
      "Required-by: \n"
     ]
    }
   ],
   "source": [
    "!pip show rai_checklist_cli"
   ]
  },
  {
   "cell_type": "markdown",
   "metadata": {},
   "source": [
    "## Step 2: Import Required Libraries\n",
    "\n",
    "Once installed, we import the necessary modules from the `rai-checklist-cli` package and ensure that templates are accessible."
   ]
  },
  {
   "cell_type": "code",
   "execution_count": null,
   "metadata": {},
   "outputs": [],
   "source": [
    "from checklist_generator import generate_checklist\n",
    "import yaml"
   ]
  },
  {
   "cell_type": "markdown",
   "metadata": {},
   "source": [
    "## Step 3: Understanding the Checklist Template\n",
    "\n",
    "This section shows how to list all available templates and sections defined in `templates.yaml`. We’ll use the `TemplateManager` to load and display the available templates.\n",
    "\n",
    "Explanation of Checklist Sections: Brief overview of the default sections in the provided `templates.yaml`. \n",
    "\n",
    "Example sections could include:\n",
    "\n",
    "- Deployment Monitoring\n",
    "- Ethical Considerations\n",
    "- Bias Mitigation\n",
    "- Model Performance"
   ]
  },
  {
   "cell_type": "code",
   "execution_count": null,
   "metadata": {},
   "outputs": [],
   "source": [
    "with open('templates.yaml', 'r') as file:\n",
    "    templates = yaml.safe_load(file)\n",
    "templates['customer_service_ai']"
   ]
  },
  {
   "cell_type": "markdown",
   "metadata": {},
   "source": [
    "## Step 4: Focus on a Specific Section\n",
    "\n",
    "Sometimes you may want to focus on just one part of a checklist. Here’s how you can isolate a specific section of a template.\n",
    "\n",
    "**Use Case:** Demonstrate generating a checklist for an NLP project."
   ]
  },
  {
   "cell_type": "code",
   "execution_count": null,
   "metadata": {},
   "outputs": [],
   "source": [
    "sections = ['deployment_monitoring', 'ethical_considerations']\n",
    "checklist = generate_checklist(templates['customer_service_ai'], sections, 'md')\n",
    "print(checklist)"
   ]
  },
  {
   "cell_type": "markdown",
   "metadata": {},
   "source": [
    "**Use Case #2:** Generate a Checklist for NLP Pipeline\n",
    "\n",
    "Demonstrate generating a checklist for an NLP project.\n"
   ]
  },
  {
   "cell_type": "code",
   "execution_count": null,
   "metadata": {},
   "outputs": [],
   "source": [
    "sections = ['deployment_monitoring', 'ethical_considerations']\n",
    "checklist = generate_checklist(templates['customer_service_ai'], sections, 'md')\n",
    "print(checklist)"
   ]
  },
  {
   "cell_type": "markdown",
   "metadata": {},
   "source": [
    "**Use Case #3:** Customizing the Checklist for a Generative AI Project\n",
    "\n",
    "Example of how to add custom questions for specific use cases, such as generative AI bias, hallucination issues, or prompt optimization."
   ]
  },
  {
   "cell_type": "code",
   "execution_count": null,
   "metadata": {},
   "outputs": [],
   "source": [
    "generative_ai_section = {\n",
    "    \"title\": \"Generative AI Specific Considerations\",\n",
    "    \"items\": [\n",
    "        \"How will you ensure that the generated content is free from harmful bias?\",\n",
    "        \"What steps are taken to reduce hallucination in responses?\",\n",
    "        \"How will you measure the factual accuracy of generated outputs?\"\n",
    "    ]\n",
    "}\n",
    "templates['customer_service_ai']['generative_ai'] = generative_ai_section"
   ]
  },
  {
   "cell_type": "markdown",
   "metadata": {},
   "source": [
    "## Step 5: Generate a Checklist in Different Formats (Markdown, YAML, JSON)\n",
    "\n",
    "Here we demonstrate how to generate checklists in various formats, such as Markdown, YAML, and JSON.\n"
   ]
  },
  {
   "cell_type": "code",
   "execution_count": null,
   "metadata": {},
   "outputs": [],
   "source": [
    "from rai_checklist_cli.checklist_generator import generate_checklist\n",
    "\n",
    "# Generate checklist for all sections in the selected template in Markdown format\n",
    "sections = list(template.keys())  # Include all sections by default\n",
    "checklist_md = generate_checklist(template, sections, file_format='md')\n",
    "print(\"Generated Checklist (Markdown):\\n\", checklist_md)\n",
    "\n",
    "# Generate checklist in YAML format\n",
    "checklist_yaml = generate_checklist(template, sections, file_format='yaml')\n",
    "print(\"Generated Checklist (YAML):\\n\", checklist_yaml)\n",
    "\n",
    "# Generate checklist in JSON format\n",
    "checklist_json = generate_checklist(template, sections, file_format='json')\n",
    "print(\"Generated Checklist (JSON):\\n\", checklist_json)"
   ]
  },
  {
   "cell_type": "markdown",
   "metadata": {},
   "source": [
    "## Step 6: Create and Save Custom Templates\n",
    "\n",
    "In this step, we’ll demonstrate how to interactively create and save a custom template using the `JupyterTemplateManager`. This is useful when the predefined templates don’t fully meet your project’s requirements.\n"
   ]
  },
  {
   "cell_type": "code",
   "execution_count": 12,
   "metadata": {},
   "outputs": [
    {
     "data": {
      "application/vnd.jupyter.widget-view+json": {
       "model_id": "3ae3066034344c7cb8bfe717a49eafe9",
       "version_major": 2,
       "version_minor": 0
      },
      "text/plain": [
       "Text(value='', description='Template Name:', placeholder='Enter template name')"
      ]
     },
     "metadata": {},
     "output_type": "display_data"
    },
    {
     "data": {
      "application/vnd.jupyter.widget-view+json": {
       "model_id": "b3ab03f0fa1e425f8d470a0174418f67",
       "version_major": 2,
       "version_minor": 0
      },
      "text/plain": [
       "Button(description='Add Section', style=ButtonStyle())"
      ]
     },
     "metadata": {},
     "output_type": "display_data"
    },
    {
     "data": {
      "application/vnd.jupyter.widget-view+json": {
       "model_id": "af9a89aa52ba4729abfc1de325545880",
       "version_major": 2,
       "version_minor": 0
      },
      "text/plain": [
       "Button(description='Save Template', style=ButtonStyle())"
      ]
     },
     "metadata": {},
     "output_type": "display_data"
    }
   ],
   "source": [
    "# Initialize JupyterTemplateManager to create custom templates interactively\n",
    "jupyter_template_manager = JupyterTemplateManager()\n",
    "\n",
    "# Start the process of creating a custom template\n",
    "jupyter_template_manager.create_template()\n"
   ]
  },
  {
   "cell_type": "markdown",
   "metadata": {},
   "source": [
    "## Step 7: Validate a Checklist Against Predefined Rules\n",
    "\n",
    "For quality control, we can validate a checklist against predefined rules using the `validate_checklist.py` utility.\n"
   ]
  },
  {
   "cell_type": "code",
   "execution_count": null,
   "metadata": {},
   "outputs": [],
   "source": [
    "from rai_checklist_cli.validate_checklist import validate_checklist\n",
    "\n",
    "# Example checklist to validate\n",
    "checklist_content = {\n",
    "    \"Project Motivation\": [\"Does the checklist cover project goals?\"],\n",
    "    \"Ethical Considerations\": [\"Are potential biases accounted for?\"]\n",
    "}\n",
    "\n",
    "# Perform validation (you can define your own validation rules)\n",
    "is_valid = validate_checklist(checklist_content)\n",
    "print(f\"Checklist Validation Result: {is_valid}\")\n"
   ]
  },
  {
   "cell_type": "markdown",
   "metadata": {},
   "source": [
    "## Step 8: Using the Checklist in AI/ML Pipelines\n",
    "\n",
    "Finally we explore how to integrate the checklist generation into an AI/ML pipeline (e.g., as part of a CI/CD pipeline for model deployment) or notebook workflow to ensure every model follows responsible AI principles."
   ]
  },
  {
   "cell_type": "markdown",
   "metadata": {},
   "source": [
    "## Conclusion\n",
    "\n",
    "In this notebook, we demonstrated how to:\n",
    "\n",
    "- List available templates and sections using `rai-checklist-cli`\n",
    "- Focus on specific sections within a template\n",
    "- Generate responsible AI checklists in multiple formats\n",
    "- Create and save custom templates interactively\n",
    "- Validate checklists against predefined rules\n",
    "\n",
    "This notebook showcases how the `rai-checklist-cli` tool can streamline responsible AI practices for machine learning projects. \n",
    "\n",
    "For more information, visit the [project’s GitHub repository](https://github.com/ByteanAtomResearch/rai-checklist-cli).\n",
    "\n",
    "### Next Steps\n",
    "\n",
    "Give it a go, extend these default templates to cover new use cases or automating the validation of responsible AI practices in future models. Or please contribute to this project.\n"
   ]
  }
 ],
 "metadata": {
  "kernelspec": {
   "display_name": "rai-venv",
   "language": "python",
   "name": "python3"
  },
  "language_info": {
   "codemirror_mode": {
    "name": "ipython",
    "version": 3
   },
   "file_extension": ".py",
   "mimetype": "text/x-python",
   "name": "python",
   "nbconvert_exporter": "python",
   "pygments_lexer": "ipython3",
   "version": "3.11.9"
  }
 },
 "nbformat": 4,
 "nbformat_minor": 2
}
